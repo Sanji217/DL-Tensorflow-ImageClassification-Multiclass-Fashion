{
  "nbformat": 4,
  "nbformat_minor": 0,
  "metadata": {
    "colab": {
      "provenance": []
    },
    "kernelspec": {
      "name": "python3",
      "display_name": "Python 3"
    },
    "language_info": {
      "name": "python"
    }
  },
  "cells": [
    {
      "cell_type": "code",
      "execution_count": 1,
      "metadata": {
        "id": "3eAimJ8-AZnK"
      },
      "outputs": [],
      "source": [
        "import os\n",
        "import tensorflow as tf\n",
        "import h5py\n",
        "from tensorflow import keras\n",
        "import numpy as np\n",
        "import matplotlib.pyplot as plt\n",
        "from tensorflow.keras.layers import Flatten,Dense\n",
        "from tensorflow.keras.losses import SparseCategoricalCrossentropy\n",
        "from sklearn.metrics import accuracy_score\n",
        "from sys import getsizeof\n",
        "\n",
        "def get_file_size(file_path):\n",
        "    size = os.path.getsize(file_path)\n",
        "    return size\n",
        "\n",
        "def convert_bytes(size, unit = None):\n",
        "    if unit == \"KB\":\n",
        "       return print('File size: ' + str(round(size/1024,3)) + 'Kilobytes')\n",
        "    elif unit == \"MB\":\n",
        "       return print('File size: ' + str(round(size/(1024*1024), 3)) + 'Megabytes')\n",
        "    else:\n",
        "       return print('File size: ' + str(round(size))+'Bytes')\n"
      ]
    },
    {
      "cell_type": "code",
      "execution_count": null,
      "metadata": {
        "id": "hZWz03QOB8T5"
      },
      "outputs": [],
      "source": [
        "fashion_mnist = keras.datasets.fashion_mnist\n",
        "(train_images, train_labels), (test_images, test_labels) = fashion_mnist.load_data()\n",
        "\n",
        "class_names = ['T-shirt/Top', 'Trouser', 'Pullover', 'Dress', 'Coat', 'Sandal', 'Shirt','Sneaker', 'Bag', 'Ankle boot']\n",
        "print(class_names[8])\n",
        "\n",
        "print('train_images: ', train_images.shape)\n",
        "print('train_labels: ',  len(train_labels))\n",
        "print('test_images: ', np.unique(train_labels))\n",
        "\n"
      ]
    },
    {
      "cell_type": "code",
      "execution_count": null,
      "metadata": {
        "id": "2BcoGngqHfKf"
      },
      "outputs": [],
      "source": [
        "print(test_images.shape)\n",
        "print(len(test_labels))\n",
        "\n",
        "plt.figure()\n",
        "plt.imshow(train_images[18])\n",
        "plt.colorbar()\n",
        "plt.grid(False)\n",
        "plt.show()\n",
        "\n",
        "print(class_names[train_labels[18]])\n",
        "\n",
        "train_images = train_images/255.0\n",
        "test_images = test_images/255.0\n",
        "\n"
      ]
    },
    {
      "cell_type": "code",
      "execution_count": null,
      "metadata": {
        "id": "vscq9exAIQJN"
      },
      "outputs": [],
      "source": [
        "model = keras.Sequential([\n",
        "    Flatten(input_shape = (28,28)),\n",
        "    Dense(128, activation = 'relu'),\n",
        "    Dense(10, activation = 'relu')\n",
        "])\n",
        "model.compile(optimizer = 'adam',\n",
        "              loss = SparseCategoricalCrossentropy(from_logits = True),\n",
        "              metrics = ['accuracy'])\n",
        "model.fit(train_images, train_labels, epochs = 20)"
      ]
    },
    {
      "cell_type": "code",
      "execution_count": null,
      "metadata": {
        "id": "lsTP0K4bbrtH"
      },
      "outputs": [],
      "source": [
        "keras_model_name = 'tf_model_fashion_mnist.h5'\n",
        "model.save(keras_model_name)\n",
        "convert_bytes(get_file_size(keras_model_name),'MB')\n",
        "test_loss, test_acc = model.evaluate(test_images, test_labels, verbose =2)\n",
        "print(\"\\nTest accuracy: \", test_acc)"
      ]
    },
    {
      "cell_type": "code",
      "source": [
        "predictions = model.predict(test_images)\n",
        "\n",
        "# Print the predicted class of the first image\n",
        "predicted_class = np.argmax(predictions[5])\n",
        "print(f\"Predicted class for the image: {predicted_class}\")"
      ],
      "metadata": {
        "id": "H6R61O1XXCrD",
        "colab": {
          "base_uri": "https://localhost:8080/"
        },
        "outputId": "66580e85-1542-4d11-f9fe-bb7eebb58d1d"
      },
      "execution_count": 7,
      "outputs": [
        {
          "output_type": "stream",
          "name": "stdout",
          "text": [
            "\u001b[1m313/313\u001b[0m \u001b[32m━━━━━━━━━━━━━━━━━━━━\u001b[0m\u001b[37m\u001b[0m \u001b[1m1s\u001b[0m 1ms/step\n",
            "Predicted class for the image: 1\n"
          ]
        }
      ]
    },
    {
      "cell_type": "code",
      "source": [
        "plt.figure()\n",
        "plt.imshow(test_images[5])\n",
        "plt.colorbar()\n",
        "plt.grid(False)\n",
        "plt.show()\n",
        "print(class_names[test_labels[5]])"
      ],
      "metadata": {
        "id": "Ri1taaXDV3pU"
      },
      "execution_count": null,
      "outputs": []
    }
  ]
}